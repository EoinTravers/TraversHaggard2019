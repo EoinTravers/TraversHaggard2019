{
 "cells": [
  {
   "cell_type": "markdown",
   "metadata": {},
   "source": [
    "# Notebook #3: PCA Rotation\n",
    "\n",
    "This notebook runs Principal Components Analysis on the response-locked data,\n",
    "and uses the rotation vectors to tranform the stimulus- and response-locked epochs for further analysis."
   ]
  },
  {
   "cell_type": "code",
   "execution_count": null,
   "metadata": {},
   "outputs": [],
   "source": [
    "# coding: utf-8\n",
    "import os\n",
    "import sys\n",
    "from glob import glob\n",
    "import numpy as np\n",
    "from scipy import stats\n",
    "import pandas as pd\n",
    "import matplotlib.pyplot as plt\n",
    "import matplotlib as mpl\n",
    "import seaborn as sns\n",
    "import mne\n",
    "from mne.decoding import UnsupervisedSpatialFilter\n",
    "# from sklearn.decomposition import PCA, FastICA, FactorAnalysis, IncrementalPCA\n",
    "\n",
    "import sys\n",
    "sys.path.append('src')\n",
    "import eegf # My generic EEG Functions\n",
    "import functions # Specific to this analysis\n",
    "from functions import topomap, do_rt_comparison, do_threeway_comparison, do_twoway_comparison, do_component\n",
    "\n",
    "mpl.rcParams['font.size'] = 20\n",
    "mpl.rcParams['axes.titlesize'] = 'medium'\n",
    "mpl.rcParams['axes.labelsize'] = 'medium'\n",
    "mpl.rcParams['xtick.labelsize'] = 'medium'\n",
    "mpl.rcParams['ytick.labelsize'] = 'medium'\n",
    "mpl.rcParams['legend.fontsize'] = 'medium'\n",
    "mpl.rcParams['figure.titlesize'] = 'medium'\n",
    "mpl.rcParams['figure.figsize'] = (8, 6)\n",
    "mpl.rcParams['axes.spines.right'] = False\n",
    "mpl.rcParams['axes.spines.top'] = False\n",
    "mpl.rcParams['axes.edgecolor'] = 'k'\n",
    "million = 1000000\n",
    "\n",
    "subjects = [1001, 1002, 1003, 1004,\n",
    "            1005, 1006,       1008,\n",
    "            1009, 1010, 1011, 1012,\n",
    "            1013, 1014, 1015, 1016,\n",
    "            1017, 1018, 1019, 1020,\n",
    "            1021]\n",
    "\n",
    "data = pd.read_csv('data/all_trial_metadata.csv')\n",
    "\n",
    "%mkdir -p data/pca_rotation"
   ]
  },
  {
   "cell_type": "markdown",
   "metadata": {},
   "source": [
    "# Response-locked data\n"
   ]
  },
  {
   "cell_type": "code",
   "execution_count": null,
   "metadata": {},
   "outputs": [],
   "source": [
    "response_epochs = mne.read_epochs('data/response_epo.fif')\n",
    "response_epochs_csd = eegf.surface_laplacian(response_epochs, m=5)"
   ]
  },
  {
   "cell_type": "code",
   "execution_count": null,
   "metadata": {},
   "outputs": [],
   "source": [
    "# data.groupby('participant')['action'].sum().plot(label='Originals')\n",
    "# response_epochs.metadata.groupby('participant').count()['cb'].plot(label='EEG')\n",
    "# plt.legend()\n",
    "# plt.title('How many trials do we have?')"
   ]
  },
  {
   "cell_type": "code",
   "execution_count": null,
   "metadata": {},
   "outputs": [],
   "source": [
    "def plot_erp(epochs, ch=9):\n",
    "    X = epochs.get_data()[:, ch]\n",
    "    eegf.plot_mean_sem(X, epochs.times)\n",
    "    \n",
    "plot_erp(response_epochs)"
   ]
  },
  {
   "cell_type": "code",
   "execution_count": null,
   "metadata": {},
   "outputs": [],
   "source": [
    "plot_erp(response_epochs_csd)"
   ]
  },
  {
   "cell_type": "code",
   "execution_count": null,
   "metadata": {},
   "outputs": [],
   "source": [
    "resp_rej = functions.find_outlier_trials(response_epochs, thresh=120./million)\n",
    "response_epochs = response_epochs[resp_rej==False]\n",
    "response_epochs_csd = response_epochs_csd[resp_rej==False]"
   ]
  },
  {
   "cell_type": "code",
   "execution_count": null,
   "metadata": {},
   "outputs": [],
   "source": [
    "len(response_epochs_csd)"
   ]
  },
  {
   "cell_type": "code",
   "execution_count": null,
   "metadata": {},
   "outputs": [],
   "source": [
    "plot_erp(response_epochs_csd)"
   ]
  },
  {
   "cell_type": "code",
   "execution_count": null,
   "metadata": {},
   "outputs": [],
   "source": [
    "eegf.plot_joint(response_epochs.average(), [-1, 0]);"
   ]
  },
  {
   "cell_type": "code",
   "execution_count": null,
   "metadata": {},
   "outputs": [],
   "source": [
    "eegf.plot_joint(response_epochs_csd.average(), [-1, -.05, 0]);"
   ]
  },
  {
   "cell_type": "code",
   "execution_count": null,
   "metadata": {},
   "outputs": [],
   "source": [
    "trial_epochs = mne.read_epochs('data/trial_epo.fif').apply_baseline((-.1, 0))\n",
    "trial_epochs_csd = eegf.surface_laplacian(trial_epochs, m=5).apply_baseline((-.1, 0))"
   ]
  },
  {
   "cell_type": "code",
   "execution_count": null,
   "metadata": {},
   "outputs": [],
   "source": [
    "plot_erp(trial_epochs_csd, 26)"
   ]
  },
  {
   "cell_type": "code",
   "execution_count": null,
   "metadata": {},
   "outputs": [],
   "source": [
    "trial_rej = functions.find_outlier_trials(trial_epochs, thresh=120./million)\n",
    "trial_epochs = trial_epochs[trial_rej==False]\n",
    "trial_epochs_csd = trial_epochs_csd[trial_rej==False]"
   ]
  },
  {
   "cell_type": "code",
   "execution_count": null,
   "metadata": {},
   "outputs": [],
   "source": [
    "eegf.plot_joint(trial_epochs.average(), [.125, .2, .27, .5, .625]);"
   ]
  },
  {
   "cell_type": "code",
   "execution_count": null,
   "metadata": {},
   "outputs": [],
   "source": [
    "eegf.plot_joint(trial_epochs_csd.average(), [.125, .2, .27, .5, .625]);"
   ]
  },
  {
   "cell_type": "code",
   "execution_count": null,
   "metadata": {},
   "outputs": [],
   "source": [
    "chan_indices = dict(zip(trial_epochs.ch_names, range(32)))\n",
    "\n",
    "plt.figure(figsize=(20, 5))\n",
    "for i, epochs, title in zip([1,2], \n",
    "                            [trial_epochs, response_epochs],\n",
    "                            ['Stimulus-locked', 'Response-locked']):\n",
    "    X = epochs.get_data()[:, :32] * million # Trial x Channel x Time\n",
    "    plt.subplot(1, 2, i)\n",
    "    for ch in ['Fcz', 'Pz']:\n",
    "        ch_i = chan_indices[ch]\n",
    "        eegf.plot_mean_sem(X[:, ch_i], epochs.times, label=ch)\n",
    "    plt.title(title)\n",
    "    plt.legend()\n",
    "    eegf.flipy()\n",
    "    plt.xlabel('Time (s)')\n",
    "    plt.ylabel(u'μV')\n",
    "plt.show()    "
   ]
  },
  {
   "cell_type": "code",
   "execution_count": null,
   "metadata": {},
   "outputs": [],
   "source": [
    "original_data = pd.read_csv('data/all_trial_metadata.csv')\n",
    "original_response_data = original_data[original_data['action']==1]\n",
    "resp_data = response_epochs.metadata"
   ]
  },
  {
   "cell_type": "code",
   "execution_count": null,
   "metadata": {},
   "outputs": [],
   "source": [
    "n_orig = original_response_data.groupby('participant').count()['cb']\n",
    "n_eeg = (\n",
    "    resp_data.groupby('participant').count()['cb']\n",
    "    .reset_index().rename({'cb':'eeg'}, axis=1)\n",
    "    .assign(original= n_orig.values)\n",
    "    .set_index('participant')\n",
    ")\n",
    "print('Trials dropped:')\n",
    "print( np.mean(1 - (n_eeg['eeg'] / n_eeg['original']).astype(float)))\n",
    "print( 1 - n_eeg['eeg'].sum() / n_eeg['original'].sum().astype(float))\n",
    "\n"
   ]
  },
  {
   "cell_type": "markdown",
   "metadata": {},
   "source": [
    "## PCA - CSD"
   ]
  },
  {
   "cell_type": "code",
   "execution_count": null,
   "metadata": {},
   "outputs": [],
   "source": [
    "eegf.plot_joint(response_epochs_csd.average(), times=[-1, -.1, 0]);"
   ]
  },
  {
   "cell_type": "code",
   "execution_count": null,
   "metadata": {},
   "outputs": [],
   "source": [
    "# late_resp_epochs_csd = response_epochs_csd.copy().crop(-.2, 0)\n",
    "# X = trial_epochs_csd.get_data()[:, :32]\n",
    "respX = response_epochs_csd.get_data()[:, :32]\n",
    "# X = response_epochs.copy().crop(-.2, 0).get_data()[:, :32]\n",
    "# respX = response_epochs.get_data()[:, :32]\n",
    "# X = trial_epochs_csd.get_data()[:, :32]\n",
    "# late_respX = late_resp_epochs_csd.get_data()[:, :32]\n",
    "\n",
    "X = response_epochs_csd.copy().crop(-.2, 0).get_data()[:, :32]\n",
    "cov_method = 'avg' # Almost no difference!\n",
    "if cov_method == 'avg':\n",
    "    covariance_csd = np.array([np.cov(X[i] - X[i].mean()) \n",
    "                                    for i in range(X.shape[0])])\n",
    "    cov = covariance_csd.mean(0)\n",
    "if cov_method == 'concat':\n",
    "    cX = X.swapaxes(0, 1).reshape(32, -1)\n",
    "    cov = np.cov(cX)\n",
    "\n",
    "sns.heatmap(cov, cmap='seismic', center=0)"
   ]
  },
  {
   "cell_type": "code",
   "execution_count": null,
   "metadata": {},
   "outputs": [],
   "source": [
    "X.shape"
   ]
  },
  {
   "cell_type": "code",
   "execution_count": null,
   "metadata": {},
   "outputs": [],
   "source": [
    "eig_vals, eig_vecs = np.linalg.eig(cov)\n",
    "ix = np.flip(np.argsort(eig_vals))\n",
    "eig_vals = eig_vals[ix]\n",
    "eig_vecs = eig_vecs[:, ix] # Is this the right axis? - Yes\n",
    "\n",
    "# plt.plot(np.log(eig_vals[:5] / eig_vals.mean()), '-o')\n",
    "# plt.plot(eig_vals[:12] / eig_vals.mean(), '-o')\n",
    "# plt.hlines(1, linestyle='dashed', *plt.xlim())\n",
    "\n",
    "# Eigenvalues\n",
    "print('Eigenvalues:', eig_vals[:4] / eig_vals.mean())\n",
    "\n",
    "## Variance explained\n",
    "ve = eig_vals / eig_vals.sum()\n",
    "print('Variance explained:', ve[:4])\n",
    "\n",
    "## Residual variance explained\n",
    "print('Residual variance explained:')\n",
    "for i in range(4):\n",
    "    print('\\t', ve[i] / (1-ve[:i].sum()))"
   ]
  },
  {
   "cell_type": "code",
   "execution_count": null,
   "metadata": {},
   "outputs": [],
   "source": [
    "from functions import plot_weight_topomaps, correct_rotation_signs\n",
    "help(correct_rotation_signs)"
   ]
  },
  {
   "cell_type": "code",
   "execution_count": null,
   "metadata": {},
   "outputs": [],
   "source": [
    "plot_weight_topomaps(eig_vecs.T[:9], response_epochs.info);\n",
    "plt.suptitle('Original weights')"
   ]
  },
  {
   "cell_type": "code",
   "execution_count": null,
   "metadata": {},
   "outputs": [],
   "source": [
    "eig_vecs_flipped = correct_rotation_signs(eig_vecs, response_epochs_csd, -2, 0)\n",
    "plot_weight_topomaps(eig_vecs_flipped.T[:9], response_epochs.info)\n",
    "plt.suptitle('Flipped weights')\n",
    "eig_vecs = eig_vecs_flipped"
   ]
  },
  {
   "cell_type": "code",
   "execution_count": null,
   "metadata": {},
   "outputs": [],
   "source": [
    "plt.figure(figsize=(14, 8))\n",
    "for i in range(32):\n",
    "    ax = plt.subplot(4, 8, i+1)\n",
    "    topomap(eig_vecs[:, i], response_epochs.info, axes=ax)\n",
    "    plt.title('Component %i' % (i+1))\n",
    "plt.suptitle('All unrotated components')\n",
    "plt.savefig('data/pca_rotation/pca_full.png')\n",
    "plt.show()"
   ]
  },
  {
   "cell_type": "code",
   "execution_count": null,
   "metadata": {},
   "outputs": [],
   "source": [
    "plt.plot(range(1, len(ve)+1), ve*100, '-o')\n",
    "plt.hlines(ve.mean()*100, linestyle='dashed', *plt.xlim())\n",
    "plt.text(19, .5 + ve.mean()*100, 'eigenvalue = 1')\n",
    "plt.ylabel('% variance explained')\n",
    "plt.xlabel('Component')\n",
    "# plt.xticks([8, 16, 24, 32])\n",
    "plt.xticks(range(1, 32, 2))\n",
    "plt.xlim(0, 33)\n",
    "plt.savefig('data/pca_rotation/explained.png')\n",
    "plt.show()"
   ]
  },
  {
   "cell_type": "code",
   "execution_count": null,
   "metadata": {},
   "outputs": [],
   "source": [
    "n_to_retain = 9"
   ]
  },
  {
   "cell_type": "code",
   "execution_count": null,
   "metadata": {},
   "outputs": [],
   "source": [
    "do_big_computations = True\n",
    "mpl.rcParams['font.size'] = 14\n",
    "%mkdir  -p figures/components/pca"
   ]
  },
  {
   "cell_type": "code",
   "execution_count": null,
   "metadata": {},
   "outputs": [],
   "source": [
    "rotation_matrix = eig_vecs[:, :n_to_retain]\n",
    "trial_epochs_pca = functions.rotate_epochs(trial_epochs_csd, rotation_matrix)\n",
    "response_epochs_pca = functions.rotate_epochs(response_epochs_csd, rotation_matrix)"
   ]
  },
  {
   "cell_type": "code",
   "execution_count": null,
   "metadata": {},
   "outputs": [],
   "source": [
    "if do_big_computations:\n",
    "    for i in range(n_to_retain):\n",
    "        print(i, end=', ')\n",
    "        fig = do_component(trial_epochs_pca, response_epochs_pca, \n",
    "                           ch=i, weights=eig_vecs[:, i], info=trial_epochs.info,\n",
    "                           title = 'PCA Component #%i' % i, neg_up=False)\n",
    "        fig.savefig('figures/components/pca/c%i.svg' % i)\n",
    "        plt.close()"
   ]
  },
  {
   "cell_type": "code",
   "execution_count": null,
   "metadata": {},
   "outputs": [],
   "source": [
    "## Save to R\n",
    "from functions import export_to_df\n",
    "df1 = export_to_df(trial_epochs_pca,    chans=[1], filename='data/long_trial_pca.csv')\n",
    "df2 = export_to_df(response_epochs_pca, chans=[1], filename='data/long_response_pca.csv')"
   ]
  },
  {
   "cell_type": "code",
   "execution_count": null,
   "metadata": {},
   "outputs": [],
   "source": [
    "np.savetxt('data/pca_rotation/resp_cov.csv', cov, delimiter=',')\n",
    "np.savetxt('data/pca_rotation/eig_vecs.csv', eig_vecs, delimiter=',')\n",
    "np.savetxt('data/pca_rotation/eig_vals.csv', eig_vals, delimiter=',')"
   ]
  },
  {
   "cell_type": "markdown",
   "metadata": {},
   "source": [
    "# Varimax"
   ]
  },
  {
   "cell_type": "code",
   "execution_count": null,
   "metadata": {},
   "outputs": [],
   "source": [
    "n_to_retain = 9 # 3, 5, 8, or 9\n",
    "varimax_vectors = functions.varimax(eig_vals[:n_to_retain] * eig_vecs[:, :n_to_retain], method='varimax')\n"
   ]
  },
  {
   "cell_type": "code",
   "execution_count": null,
   "metadata": {},
   "outputs": [],
   "source": [
    "plot_weight_topomaps(varimax_vectors, response_epochs.info);\n",
    "plt.suptitle('Original varimax weights')\n"
   ]
  },
  {
   "cell_type": "code",
   "execution_count": null,
   "metadata": {},
   "outputs": [],
   "source": [
    "varimax_vectors_flipped = correct_rotation_signs(varimax_vectors.T, response_epochs_csd, -2, 0).T\n",
    "plot_weight_topomaps(varimax_vectors_flipped, response_epochs.info)\n",
    "plt.suptitle('Flipped varimax weights')\n",
    "plt.savefig('data/pca_rotation/vmax_topo.svg')\n",
    "varimax_vectors = varimax_vectors_flipped"
   ]
  },
  {
   "cell_type": "code",
   "execution_count": null,
   "metadata": {},
   "outputs": [],
   "source": [
    "# ## Sum of squares per loading -- This is NOT the variance explained\n",
    "r_eigvals = np.sum(varimax_vectors**2, 1)\n",
    "r_eigvals_prop = r_eigvals / r_eigvals.sum()\n",
    "retained_prop =  (eig_vals/eig_vals.sum())[:n_to_retain].sum()\n",
    "# plt.plot(r_eigvals_prop, '-o')\n",
    "plt.plot(r_eigvals_prop * retained_prop, '-o')\n",
    "plt.hlines(0, *plt.xlim())"
   ]
  },
  {
   "cell_type": "code",
   "execution_count": null,
   "metadata": {},
   "outputs": [],
   "source": [
    "do_big_computations = True\n",
    "mpl.rcParams['font.size'] = 14\n",
    "%mkdir  -p figures/components/vmax"
   ]
  },
  {
   "cell_type": "code",
   "execution_count": null,
   "metadata": {},
   "outputs": [],
   "source": [
    "L = varimax_vectors.T\n",
    "L = L / L.max()\n",
    "trial_epochs_vmax = functions.rotate_epochs(trial_epochs_csd, L)\n",
    "response_epochs_vmax = functions.rotate_epochs(response_epochs_csd, L)"
   ]
  },
  {
   "cell_type": "code",
   "execution_count": null,
   "metadata": {},
   "outputs": [],
   "source": [
    "if do_big_computations:\n",
    "    for i in range(n_to_retain):\n",
    "        print(i, end=', ')\n",
    "        fig = do_component(trial_epochs_vmax, response_epochs_vmax, \n",
    "                           ch=i, weights=varimax_vectors[i], info=trial_epochs.info,\n",
    "                           title = 'Varimax Component #%i' % i, neg_up=False)\n",
    "        fig.savefig('figures/components/vmax/c%i.svg' % i)\n",
    "        plt.close()"
   ]
  },
  {
   "cell_type": "code",
   "execution_count": null,
   "metadata": {},
   "outputs": [],
   "source": [
    "\n",
    "## Save to R\n",
    "from functions import export_to_df\n",
    "df1 = export_to_df(trial_epochs_vmax,    chans=[1], filename='data/long_trial_vmax.csv')\n",
    "df2 = export_to_df(response_epochs_vmax, chans=[1], filename='data/long_response_vmax.csv')\n",
    "\n",
    "# np.savetxt('data/pca_rotation/resp_cov.csv', cov, delimiter=',')\n",
    "# np.savetxt('data/pca_rotation/eig_vecs.csv', eig_vecs, delimiter=',')\n",
    "# np.savetxt('data/pca_rotation/eig_vals.csv', eig_vals, delimiter=',')"
   ]
  },
  {
   "cell_type": "code",
   "execution_count": null,
   "metadata": {},
   "outputs": [],
   "source": [
    "# Double-check exported data\n",
    "X = response_epochs_vmax.get_data()[:, 1] * million\n",
    "plt.plot(response_epochs_vmax.times, X.mean(0), label='Original')\n",
    "\n",
    "csv = pd.read_csv('data/long_response_vmax.csv')\n",
    "m = csv.groupby('time')['ch1'].mean() * million\n",
    "m.plot(label='Exported')\n",
    "plt.legend();"
   ]
  },
  {
   "cell_type": "markdown",
   "metadata": {},
   "source": [
    "## Full PCA Plot"
   ]
  },
  {
   "cell_type": "code",
   "execution_count": null,
   "metadata": {},
   "outputs": [],
   "source": [
    "components_to_plot = [2, 6, 1]\n",
    "trialXR = trial_epochs_vmax.get_data() * million\n",
    "respXR = response_epochs_vmax.get_data() * million"
   ]
  },
  {
   "cell_type": "code",
   "execution_count": null,
   "metadata": {},
   "outputs": [],
   "source": [
    "v = varimax_vectors[components_to_plot, :]\n",
    "plot_weight_topomaps(v, response_epochs.info);\n",
    "# plt.savefig('figures/pca_prt1.svg')"
   ]
  },
  {
   "cell_type": "code",
   "execution_count": null,
   "metadata": {},
   "outputs": [],
   "source": [
    "# fig, axes = plt.subplots(figsize=(12, 10), ncols=1, nrows=3, gridspec_kw={'height_ratios':[1, .5, 1]})\n",
    "# fig, axes = plt.subplots(figsize=(12, 10), ncols=1, nrows=2)\n",
    "fig, axes = plt.subplots(figsize=(12, 14), ncols=1, nrows=4, gridspec_kw={'height_ratios':[.2, 1, .2, 1]})\n",
    "\n",
    "plt.sca(axes[0])\n",
    "plt.hist(resp_data['rt'], bins=100)\n",
    "plt.xticks([])\n",
    "plt.xlim(-.5, 2.)\n",
    "\n",
    "plt.sca(axes[1])\n",
    "for i in [2, 6, 1]:\n",
    "    eegf.plot_mean_sem(trialXR[:, i] * million, trial_epochs.times, label='C %i' % (i))\n",
    "plt.legend(loc='upper left')\n",
    "plt.vlines(0, linestyle='--', *plt.ylim())\n",
    "plt.xlim(-.5, 2.)\n",
    "plt.xlabel('Time from onset (s)')\n",
    "\n",
    "plt.sca(axes[2])\n",
    "plt.hist(-1 * resp_data['rt'], bins=100)\n",
    "plt.xticks([])\n",
    "plt.xlim(-2, .5)\n",
    "\n",
    "plt.sca(axes[3])\n",
    "for i in [2, 6, 1]:\n",
    "    eegf.plot_mean_sem(respXR[:, i] * million, response_epochs.times, label='C %i' % (i))\n",
    "plt.vlines(0, linestyle='--', *plt.ylim())\n",
    "plt.xlim(-2, .5)\n",
    "plt.xlabel('Time to action (s)')\n",
    "# plt.savefig('figures/pca_prt2.svg')\n",
    "plt.tight_layout()\n",
    "plt.show()"
   ]
  }
 ],
 "metadata": {
  "kernelspec": {
   "display_name": "Python 3",
   "language": "python",
   "name": "python3"
  },
  "language_info": {
   "codemirror_mode": {
    "name": "ipython",
    "version": 3
   },
   "file_extension": ".py",
   "mimetype": "text/x-python",
   "name": "python",
   "nbconvert_exporter": "python",
   "pygments_lexer": "ipython3",
   "version": "3.7.3"
  }
 },
 "nbformat": 4,
 "nbformat_minor": 2
}
