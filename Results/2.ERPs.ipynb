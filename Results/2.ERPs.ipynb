{
 "cells": [
  {
   "cell_type": "markdown",
   "metadata": {},
   "source": [
    "# Notebook #2: Plot ERPs\n",
    "\n",
    "    \n",
    "This notebook produces basic exploratory plots of the stimulus- and response-locked ERPs.\n",
    "None of these plots are included in the paper, which reports analyses based on the PCA-filtered data produced later."
   ]
  },
  {
   "cell_type": "code",
   "execution_count": null,
   "metadata": {},
   "outputs": [],
   "source": [
    "# coding: utf-8\n",
    "import os\n",
    "import sys\n",
    "from glob import glob\n",
    "import numpy as np\n",
    "from scipy import stats\n",
    "import pandas as pd\n",
    "import matplotlib.pyplot as plt\n",
    "import matplotlib as mpl\n",
    "import seaborn as sns\n",
    "import mne\n",
    "\n",
    "import sys\n",
    "sys.path.append('src')\n",
    "import eegf # My generic EEG Functions\n",
    "import functions # Specific to this analysis\n",
    "from functions import topomap, do_rt_comparison, do_threeway_comparison, do_twoway_comparison, do_component\n",
    "\n",
    "mpl.rcParams['font.size'] = 20\n",
    "mpl.rcParams['axes.titlesize'] = 'medium'\n",
    "mpl.rcParams['axes.labelsize'] = 'medium'\n",
    "mpl.rcParams['xtick.labelsize'] = 'medium'\n",
    "mpl.rcParams['ytick.labelsize'] = 'medium'\n",
    "mpl.rcParams['legend.fontsize'] = 'medium'\n",
    "mpl.rcParams['figure.titlesize'] = 'medium'\n",
    "mpl.rcParams['figure.figsize'] = (8, 6)\n",
    "mpl.rcParams['axes.spines.right'] = False\n",
    "mpl.rcParams['axes.spines.top'] = False\n",
    "mpl.rcParams['axes.edgecolor'] = 'k'\n",
    "million = 1000000\n",
    "\n",
    "subjects = [1001, 1002, 1003, 1004,\n",
    "            1005, 1006,       1008,\n",
    "            1009, 1010, 1011, 1012,\n",
    "            1013, 1014, 1015, 1016,\n",
    "            1017, 1018, 1019, 1020,\n",
    "            1021]\n"
   ]
  },
  {
   "cell_type": "code",
   "execution_count": null,
   "metadata": {},
   "outputs": [],
   "source": [
    "%%capture\n",
    "trial_epochs = mne.read_epochs('data/trial_epo.fif').apply_baseline((-.1, 0.))\n",
    "response_epochs = mne.read_epochs('data/response_epo.fif').apply_baseline((-2.1, -2))\n",
    "\n",
    "if os.path.exists('data/trial-csd_epo.fif'):\n",
    "    trial_epochs_csd = mne.read_epochs('data/trial-csd_epo.fif').apply_baseline((-.1, 0.))\n",
    "    response_epochs_csd =  mne.read_epochs('data/response-csd_epo.fif').apply_baseline((-2.1, -2))\n",
    "else:\n",
    "    trial_epochs_csd = eegf.surface_laplacian(trial_epochs, m=5)\n",
    "    trial_epochs_csd.save('data/trial-csd_epo.fif')\n",
    "    response_epochs_csd = eegf.surface_laplacian(response_epochs, m=5)\n",
    "    response_epochs_csd.save('data/response-csd_epo.fif')"
   ]
  },
  {
   "cell_type": "code",
   "execution_count": null,
   "metadata": {},
   "outputs": [],
   "source": [
    "print([len(e) for e in [trial_epochs, response_epochs, trial_epochs_csd, response_epochs_csd]])"
   ]
  },
  {
   "cell_type": "code",
   "execution_count": null,
   "metadata": {},
   "outputs": [],
   "source": [
    "def find_outlier_trials(epochs, thresh=120. / million):\n",
    "    X = epochs.get_data()[:, :32]\n",
    "    aX = np.abs(X).max(2).max(1)\n",
    "    return aX > thresh\n",
    "\n",
    "trial_rej = find_outlier_trials(trial_epochs, thresh=120./million)\n",
    "df = trial_epochs.metadata\n",
    "df['rej'] = trial_rej\n",
    "print( df.groupby('participant').mean()['rej'])\n",
    "print( trial_rej.mean())"
   ]
  },
  {
   "cell_type": "code",
   "execution_count": null,
   "metadata": {},
   "outputs": [],
   "source": [
    "resp_rej = find_outlier_trials(response_epochs, thresh=120./million)\n",
    "df = response_epochs.metadata\n",
    "df['rej'] = resp_rej\n",
    "print(df.groupby('participant').mean()['rej'])\n",
    "print( resp_rej.mean())"
   ]
  },
  {
   "cell_type": "code",
   "execution_count": null,
   "metadata": {},
   "outputs": [],
   "source": [
    "trial_epochs = trial_epochs[trial_rej==False]\n",
    "trial_epochs_csd = trial_epochs_csd[trial_rej==False]\n",
    "response_epochs = response_epochs[resp_rej==False]\n",
    "response_epochs_csd = response_epochs_csd[resp_rej==False]\n"
   ]
  },
  {
   "cell_type": "markdown",
   "metadata": {},
   "source": [
    "## Lots and lots of ERPs\n",
    "\n",
    "The hard work in this notebook is done by the `do_component()` function, defined in `functions.py`."
   ]
  },
  {
   "cell_type": "code",
   "execution_count": null,
   "metadata": {},
   "outputs": [],
   "source": [
    "help(do_component)"
   ]
  },
  {
   "cell_type": "markdown",
   "metadata": {},
   "source": [
    "All we need to do is call this function on every channel of the original data, \n",
    "and every channel of the CSD data, and save the resulting plots.\n",
    "The plots end up in `figures/components/raw/` and `figures/components/csd/`."
   ]
  },
  {
   "cell_type": "code",
   "execution_count": null,
   "metadata": {},
   "outputs": [],
   "source": [
    "%mkdir figures\n",
    "%mkdir figures/components\n",
    "%mkdir figures/components/raw/\n",
    "%mkdir figures/components/csd/\n",
    "mpl.rcParams['font.size'] = 14"
   ]
  },
  {
   "cell_type": "code",
   "execution_count": null,
   "metadata": {},
   "outputs": [],
   "source": [
    "do_big_computations = False # The next two cells take ages. Set False to skip them."
   ]
  },
  {
   "cell_type": "code",
   "execution_count": null,
   "metadata": {},
   "outputs": [],
   "source": [
    "if do_big_computations:\n",
    "    for i in range(32):\n",
    "        print(i, end=', ')\n",
    "        weights = np.zeros(32)\n",
    "        weights[i] = 1\n",
    "        ch = trial_epochs.ch_names[i]\n",
    "        fig = do_component(trial_epochs, response_epochs, ch=i, \n",
    "                           weights = weights, info=trial_epochs.info,\n",
    "                           title = 'Raw Signal - Channel %s' % ch)\n",
    "\n",
    "        fig.savefig('figures/components/raw/%i-%s.svg' % (i, ch))\n",
    "        plt.close()"
   ]
  },
  {
   "cell_type": "code",
   "execution_count": null,
   "metadata": {},
   "outputs": [],
   "source": [
    "if do_big_computations:\n",
    "    for i in range(32):\n",
    "        print(i, end=', ')\n",
    "        weights = np.zeros(32)\n",
    "        weights[i] = 1\n",
    "        ch = trial_epochs.ch_names[i]\n",
    "        fig = do_component(trial_epochs_csd, response_epochs_csd, ch=i, \n",
    "                           weights = weights, info=trial_epochs.info,\n",
    "                           title = 'CSD Signal - Channel %s' % ch)\n",
    "        fig.savefig('figures/components/csd/%i-%s.svg' % (i, ch))\n",
    "        plt.close()"
   ]
  },
  {
   "cell_type": "code",
   "execution_count": null,
   "metadata": {},
   "outputs": [],
   "source": [
    "def get_chan(lbl):\n",
    "    return trial_epochs.ch_names.index(lbl)\n",
    "midline_chans = [ch for ch in trial_epochs.ch_names if ch.find('z') > 0]\n",
    "midline_chans"
   ]
  },
  {
   "cell_type": "markdown",
   "metadata": {},
   "source": [
    "## Specific Stimulus-locked plots"
   ]
  },
  {
   "cell_type": "code",
   "execution_count": null,
   "metadata": {},
   "outputs": [],
   "source": [
    "eegf.plot_joint(trial_epochs_csd.average(), times=[0., .12, .2, .5, .65]);"
   ]
  },
  {
   "cell_type": "code",
   "execution_count": null,
   "metadata": {},
   "outputs": [],
   "source": [
    "fig, axes = plt.subplots(figsize=(20, 8), ncols=3, nrows=2)\n",
    "axes = np.concatenate(axes)\n",
    "for ax, ch in zip(axes, midline_chans):\n",
    "    plt.sca(ax)\n",
    "    ax.set_title(ch)\n",
    "    do_twoway_comparison(trial_epochs_csd, get_chan(ch), variable='action',\n",
    "                         labels=['Wait', 'Act'], title=ch, crop=(-.5, 2.), baseline=(-.1, 0))\n",
    "plt.tight_layout(rect = (0, 0, 1, .95))\n",
    "plt.suptitle('Wait vs Act - Midline Electrodes - CSD EEG')\n",
    "plt.show()"
   ]
  },
  {
   "cell_type": "code",
   "execution_count": null,
   "metadata": {},
   "outputs": [],
   "source": [
    "fig, axes = plt.subplots(figsize=(20, 8), ncols=3, nrows=2)\n",
    "axes = np.concatenate(axes)\n",
    "for ax, ch in zip(axes, midline_chans):\n",
    "    ax.set_title(ch)\n",
    "    do_threeway_comparison(trial_epochs_csd, get_chan(ch), ax=ax, title=ch, crop=(-.5, 2.), baseline=(-.1, 0),\n",
    "                          by_subject=True)\n",
    "plt.tight_layout(rect = (0, 0, 1, .95))\n",
    "plt.suptitle('Easy vs Difficult vs Guess - Midline Electrodes - CSD EEG')\n",
    "plt.show()\n",
    "    "
   ]
  },
  {
   "cell_type": "code",
   "execution_count": null,
   "metadata": {},
   "outputs": [],
   "source": [
    "fig, axes = plt.subplots(figsize=(20, 8), ncols=3, nrows=2)\n",
    "axes = np.concatenate(axes)\n",
    "for ax, ch in zip(axes, midline_chans):\n",
    "    ax.set_title(ch)\n",
    "    do_threeway_comparison(trial_epochs_csd, get_chan(ch), ax=ax, title=ch, crop=(-.5, 2.), baseline=(-.1, 0),\n",
    "                           agg_func=functions.std_by_subject,\n",
    "                           by_subject=True)\n",
    "    eegf.flipy() # Return to negative-down\n",
    "plt.tight_layout(rect = (0, 0, 1, .95))\n",
    "plt.suptitle('Standard devition of Easy vs Difficult vs Guess - Midline Electrodes - CSD EEG')\n",
    "plt.show()\n",
    "    "
   ]
  },
  {
   "cell_type": "markdown",
   "metadata": {},
   "source": [
    "## Specific Response-locked plots"
   ]
  },
  {
   "cell_type": "code",
   "execution_count": null,
   "metadata": {},
   "outputs": [],
   "source": [
    "eegf.plot_joint(response_epochs_csd.average(), times=[-2, -.1, 0.]);"
   ]
  },
  {
   "cell_type": "code",
   "execution_count": null,
   "metadata": {},
   "outputs": [],
   "source": [
    "fig, axes = plt.subplots(figsize=(20, 8), ncols=3, nrows=2)\n",
    "axes = np.concatenate(axes)\n",
    "for ax, ch in zip(axes, midline_chans):\n",
    "    ax.set_title(ch)\n",
    "    do_threeway_comparison(response_epochs_csd, get_chan(ch), ax=ax, title=ch, by_subject=True)\n",
    "plt.tight_layout(rect = (0, 0, 1, .95))\n",
    "plt.suptitle('Easy vs Difficult vs Guess - Midline Electrodes - CSD EEG')\n",
    "plt.show()"
   ]
  },
  {
   "cell_type": "code",
   "execution_count": null,
   "metadata": {},
   "outputs": [],
   "source": [
    "fig, axes = plt.subplots(figsize=(20, 8), ncols=3, nrows=2)\n",
    "axes = np.concatenate(axes)\n",
    "for ax, ch in zip(axes, midline_chans):\n",
    "    ax.set_title(ch)\n",
    "    do_threeway_comparison(response_epochs_csd, get_chan(ch), ax=ax, title=ch, \n",
    "                           agg_func=functions.std_by_subject, by_subject=True,\n",
    "                           baseline=(-.01, .01))\n",
    "    eegf.flipy() # Return to negative-down\n",
    "plt.tight_layout(rect = (0, 0, 1, .95))\n",
    "plt.suptitle('Standard devition of Easy vs Difficult vs Guess - Midline Electrodes - CSD EEG')\n",
    "plt.show()"
   ]
  }
 ],
 "metadata": {
  "kernelspec": {
   "display_name": "Python 3",
   "language": "python",
   "name": "python3"
  },
  "language_info": {
   "codemirror_mode": {
    "name": "ipython",
    "version": 3
   },
   "file_extension": ".py",
   "mimetype": "text/x-python",
   "name": "python",
   "nbconvert_exporter": "python",
   "pygments_lexer": "ipython3",
   "version": "3.7.3"
  }
 },
 "nbformat": 4,
 "nbformat_minor": 2
}
