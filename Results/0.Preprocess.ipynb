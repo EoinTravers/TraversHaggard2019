{
 "cells": [
  {
   "cell_type": "markdown",
   "metadata": {},
   "source": [
    "\n",
    "# Notebook #0: Preprocessing\n",
    "\n",
    "    NOTE: The raw EEG data are not provided in this repository.\n",
    "    This means you won't be able to run this notebook (0.Preprocess.ipynb),\n",
    "    or the one that comes after it (1.Merge.ipynb).\n",
    "    These files are provided for completeness, and in the hope they might\n",
    "    be of use to other researchers.\n",
    "\n",
    "    Instead, we've included the preprocessed, epoched, and combined data as\n",
    "    - data/trial_epo.fif: Stimulus-locked epochs\n",
    "    - data/response_epo.fif: Response-locked epochs\n",
    "    \n",
    "    To start re-running the analyses, begin with 2.ERPs.ipynb.\n",
    "    "
   ]
  },
  {
   "cell_type": "code",
   "execution_count": null,
   "metadata": {},
   "outputs": [],
   "source": [
    "import numpy as np\n",
    "import matplotlib.pyplot as plt\n",
    "import mne\n",
    "from mne import io\n",
    "import pandas as pd\n",
    "import os\n",
    "import matplotlib as mpl\n",
    "import seaborn as sns\n",
    "\n",
    "import sys\n",
    "sys.path.append('src')\n",
    "import eegf # My generic EEG Functions\n",
    "import functions # Specific to this analysis\n",
    "\n",
    "mpl.rcParams['font.size'] = 20\n",
    "mpl.rcParams['axes.titlesize'] = 'medium'\n",
    "mpl.rcParams['axes.labelsize'] = 'medium'\n",
    "mpl.rcParams['xtick.labelsize'] = 'medium'\n",
    "mpl.rcParams['ytick.labelsize'] = 'medium'\n",
    "mpl.rcParams['legend.fontsize'] = 'medium'\n",
    "mpl.rcParams['figure.titlesize'] = 'medium'\n",
    "mpl.rcParams['figure.figsize'] = (8, 6)\n",
    "mpl.rc('font', family='DejaVu Sans')\n",
    "mpl.rcParams['svg.fonttype'] = 'none'\n",
    "million = 1000000.\n",
    "\n",
    "## Path where raw data is stored.\n",
    "## Should have subdirectory called bdf/\n",
    "datapath = '/media/eoin/Seagate Expansion Drive/RouletteEEG/data'\n",
    "%mkdir -p data\n",
    "%mkdir -p data/csv\n",
    "%mkdir -p annotations\n",
    "## csv files should be copied to data/csv/\n",
    "## Uncomment these lines to do it (I don't know if this works on windows)\n",
    "# import shutil\n",
    "# shutil.copytree(os.path.join(datapath, 'csv'), 'data/csv')\n",
    "\n",
    "print('Python version:')\n",
    "print(sys.version)\n",
    "\n",
    "print('MNE version:')\n",
    "print(mne.__version__)\n",
    "\n"
   ]
  },
  {
   "cell_type": "code",
   "execution_count": null,
   "metadata": {},
   "outputs": [],
   "source": [
    "%matplotlib qt"
   ]
  },
  {
   "cell_type": "markdown",
   "metadata": {},
   "source": [
    "## Load and prepare data"
   ]
  },
  {
   "cell_type": "code",
   "execution_count": null,
   "metadata": {},
   "outputs": [],
   "source": [
    "## Run this notebook interactively for each participant.\n",
    "subject = 1001"
   ]
  },
  {
   "cell_type": "code",
   "execution_count": null,
   "metadata": {},
   "outputs": [],
   "source": [
    "if not os.path.exists('data/csv'):\n",
    "    os.mkdir('data/csv')\n",
    "subject_"
   ]
  },
  {
   "cell_type": "code",
   "execution_count": null,
   "metadata": {},
   "outputs": [],
   "source": [
    "raw = io.read_raw_edf(os.path.join(datapath, 'bdf/%i.bdf' % subject),\n",
    "                     montage=mne.channels.read_montage('biosemi64'),\n",
    "                     stim_channel=-1)\n",
    "eogs = [u'ELL', u'ERS', u'ERL', u'ERI']\n",
    "mne.rename_channels(raw.info, dict(zip(raw.ch_names[32:38], ['ML', 'MR'] + eogs)))\n",
    "\n",
    "d = {}\n",
    "d.update( dict(zip(eogs, ['eog']*len(eogs))))\n",
    "d.update( dict(zip(raw.ch_names[:32], ['eeg']*32)))\n",
    "raw.set_channel_types(d)"
   ]
  },
  {
   "cell_type": "code",
   "execution_count": null,
   "metadata": {},
   "outputs": [],
   "source": [
    "## This cell takes a while.\n",
    "raw = (\n",
    "    raw\n",
    "    .load_data()\n",
    "    .drop_channels(['EXG7', 'EXG8'])\n",
    "    .set_eeg_reference(['ML', 'MR'])\n",
    "    .drop_channels(['ML', 'MR'])\n",
    "    .filter(.05, 50, picks=range(36))\n",
    "    .resample(125)\n",
    "    .apply_function(lambda x: mne.filter.notch_filter(x, Fs = 125, freqs=[50]), verbose=False, picks=range(36))\n",
    ")"
   ]
  },
  {
   "cell_type": "code",
   "execution_count": null,
   "metadata": {},
   "outputs": [],
   "source": [
    "## To trim data, plot raw signal from FCz, and a line whereever trigger 2 (trial start) occurs\n",
    "## This will highlight any obviously faulty segments in the data.\n",
    "## You can use the manual tool below to mark segments you find here.\n",
    "t = raw.times\n",
    "X = raw.get_data()\n",
    "decim = 100\n",
    "x = X[15, ::decim]\n",
    "plt.plot(t[::decim], x - x.mean(0) )\n",
    "\n",
    "plt.vlines(t[X[-1]==4], -.0001, .0001, alpha=.5)\n",
    "plt.show()"
   ]
  },
  {
   "cell_type": "code",
   "execution_count": null,
   "metadata": {},
   "outputs": [],
   "source": [
    "## Check if annotations already exist for this subject\n",
    "def add_annotations(raw, starts, ends):\n",
    "    lengths = np.array(ends) - np.array(starts)\n",
    "    return mne.Annotations(starts, lengths, ['bad_segment']*len(starts), orig_time=raw.info['meas_date'])\n",
    "\n",
    "def concat_annotations(list_of_annots, raw):\n",
    "    starts = []\n",
    "    ends = []\n",
    "    for A in list_of_annots:\n",
    "        if A is not None:\n",
    "            starts += list(A.onset)\n",
    "            ends += list(A.onset + A.duration)\n",
    "    return add_annotations(raw, starts, ends)\n",
    "\n",
    "fn = 'annotations/%i-annot.fif' % subject\n",
    "if os.path.exists(fn):\n",
    "    txt = 'Annotations file found at %s.\\nDo you want to load it?\\ny/n...'\n",
    "    resp = raw_input(txt)\n",
    "    if resp.lower() == 'y':\n",
    "        old_annotations = mne.read_annotations(fn)\n",
    "        raw.annotations = concat_annotations([raw.annotations, old_annotations], raw)"
   ]
  },
  {
   "cell_type": "code",
   "execution_count": null,
   "metadata": {},
   "outputs": [],
   "source": [
    "## Plot again, with annotated segments in red, if any.\n",
    "## You can re-run this after using the manual annotation tool below.\n",
    "plt.plot(t[::decim], x - x.mean(0) )\n",
    "plt.vlines(t[X[-1]==2], -.0001,.0001, alpha=.5)\n",
    "for onset, dur in zip(raw.annotations.onset, raw.annotations.duration):\n",
    "    plt.fill_between([onset, onset+dur], y1=-.0005, y2=.0005, color='r', alpha=.5)\n",
    "plt.show()"
   ]
  },
  {
   "cell_type": "code",
   "execution_count": null,
   "metadata": {},
   "outputs": [],
   "source": [
    "## Manually annotate data.\n",
    "## Depending on data quality and requirements, you might reduce the duration argument \n",
    "## to zoom in on shorter temporal windows.\n",
    "raw.plot(duration=120, n_channels=37, show_options=True, block=True, event_id={'X':4})"
   ]
  },
  {
   "cell_type": "code",
   "execution_count": null,
   "metadata": {},
   "outputs": [],
   "source": [
    "## Save the annotations\n",
    "if raw.annotations is not None:\n",
    "    txt = 'Save annotations to file?\\ny/n...'\n",
    "    resp = raw_input(txt)\n",
    "    if resp.lower() == 'y':\n",
    "        raw.annotations.save(fn)\n",
    "    "
   ]
  },
  {
   "cell_type": "markdown",
   "metadata": {},
   "source": [
    "# ICA to remove artefacts"
   ]
  },
  {
   "cell_type": "code",
   "execution_count": null,
   "metadata": {},
   "outputs": [],
   "source": [
    "## Let's extract provisional epochs to check for artefacts.\n",
    "events = mne.find_events(raw)\n",
    "event_id, tmin, tmax = {'trial_start': 2}, -.5, 3\n",
    "reject = {'eeg': 600 / million}\n",
    "all_event_epochs_d = dict(events=events, event_id=event_id, \n",
    "                          tmin=tmin, tmax=tmax, baseline=(-.1, 0.),\n",
    "                          reject=reject)\n",
    "all_event_epochs = mne.Epochs(raw, **all_event_epochs_d).load_data()"
   ]
  },
  {
   "cell_type": "code",
   "execution_count": null,
   "metadata": {},
   "outputs": [],
   "source": [
    "## Plot epochs, including artefacts.\n",
    "all_event_epochs.average().plot_joint();"
   ]
  },
  {
   "cell_type": "code",
   "execution_count": null,
   "metadata": {},
   "outputs": [],
   "source": [
    "## Raw data at Cz\n",
    "X = all_event_epochs.get_data()\n",
    "plt.figure()\n",
    "functions.rawplot(X * million, all_event_epochs.times, ch=15)\n",
    "plt.show()"
   ]
  },
  {
   "cell_type": "code",
   "execution_count": null,
   "metadata": {},
   "outputs": [],
   "source": [
    "## Covariance matrix across channels.\n",
    "## Are the early (frontal) channels high-variance?\n",
    "X = all_event_epochs.get_data()[:, :32]\n",
    "_r = [np.cov(X[i]) for i in range(len(X))]\n",
    "r = np.array(_r).mean(0)\n",
    "plt.figure()\n",
    "sns.heatmap(r, cmap='jet', vmin=0, vmax=r.max(), center=0)\n",
    "plt.show()"
   ]
  },
  {
   "cell_type": "markdown",
   "metadata": {},
   "source": [
    "## Trying repeated ICA"
   ]
  },
  {
   "cell_type": "code",
   "execution_count": null,
   "metadata": {},
   "outputs": [],
   "source": [
    "eeg_picks = range(32)\n",
    "eog_picks = mne.pick_types(raw.info, eeg=False, eog=True)\n",
    "ica = mne.preprocessing.ICA(n_components=len(eeg_picks), method='fastica', random_state=12345)\n",
    "ica = ica.fit(all_event_epochs, picks=range(32), decim=3, reject=dict(eeg=.0005))"
   ]
  },
  {
   "cell_type": "code",
   "execution_count": null,
   "metadata": {},
   "outputs": [],
   "source": [
    "%mkdir -p ica_plot ## Save ica plots for posterity.\n",
    "p = ica.plot_components(inst=all_event_epochs, picks=range(32))\n",
    "p.savefig('ica_plot/S%i.png' % subject)"
   ]
  },
  {
   "cell_type": "code",
   "execution_count": null,
   "metadata": {},
   "outputs": [],
   "source": [
    "## Enter the labels of the ICA components to remove here.\n",
    "ica_to_remove = [\n",
    "    0, 12\n",
    "]\n",
    "## Safety check\n",
    "try:\n",
    "    if old_ica_to_remove == ica_to_remove:       \n",
    "        print('WARNING! ARE THOSE THE VALUES FROM THE LAST PARTICIPANT?')\n",
    "    old_ica_to_remove = ica_to_remove\n",
    "except NameError:\n",
    "    old_ica_to_remove = ica_to_remove"
   ]
  },
  {
   "cell_type": "code",
   "execution_count": null,
   "metadata": {},
   "outputs": [],
   "source": [
    "## Do the removal\n",
    "ica.exclude = ica_to_remove\n",
    "raw = ica.apply(raw)"
   ]
  },
  {
   "cell_type": "code",
   "execution_count": null,
   "metadata": {},
   "outputs": [],
   "source": [
    "## Extract the epochs again. They should be clean.\n",
    "events = mne.find_events(raw)\n",
    "event_id, tmin, tmax = {'trial_start': 2}, -.5, 3\n",
    "d = dict(events=events, event_id=event_id, tmin=tmin, tmax=tmax, baseline=(-.1, 0.), reject=None)\n",
    "trial_epochs = mne.Epochs(raw, **d).load_data()"
   ]
  },
  {
   "cell_type": "code",
   "execution_count": null,
   "metadata": {},
   "outputs": [],
   "source": [
    "plt.figure()\n",
    "X = trial_epochs.get_data() * million\n",
    "functions.rawplot(X, trial_epochs.times, ch=15)\n",
    "plt.show()"
   ]
  },
  {
   "cell_type": "code",
   "execution_count": null,
   "metadata": {},
   "outputs": [],
   "source": [
    "mkdir -p subject_plots/trial_epochs/"
   ]
  },
  {
   "cell_type": "code",
   "execution_count": null,
   "metadata": {},
   "outputs": [],
   "source": [
    "erp = trial_epochs.average().crop(-.1, 2)\n",
    "times = np.array([0, .125, .3, .5])\n",
    "eegf.plot_joint(erp, times[times > 0], \n",
    "                title='Stimulus-locked ERP - %i' % subject, \n",
    "                save='subject_plots/trial_epochs/%i.png' % subject);"
   ]
  },
  {
   "cell_type": "markdown",
   "metadata": {},
   "source": [
    "Optionally, save the cleaned-up raw data"
   ]
  },
  {
   "cell_type": "code",
   "execution_count": null,
   "metadata": {},
   "outputs": [],
   "source": [
    "# %mkdir -p 'data/cleaned/'\n",
    "# raw.save('data/cleaned/%i_raw.fif' % subject, overwrite=True)"
   ]
  },
  {
   "cell_type": "markdown",
   "metadata": {},
   "source": [
    "# Get epochs"
   ]
  },
  {
   "cell_type": "code",
   "execution_count": null,
   "metadata": {},
   "outputs": [],
   "source": [
    "fn = glob('data/csv/%i*.csv' % subject)\n",
    "fn"
   ]
  },
  {
   "cell_type": "code",
   "execution_count": null,
   "metadata": {},
   "outputs": [],
   "source": [
    "data = functions.load_subject_csv(subject)\n",
    "data.head()"
   ]
  },
  {
   "cell_type": "code",
   "execution_count": null,
   "metadata": {},
   "outputs": [],
   "source": [
    "%mkdir -p 'data/trial_epochs'\n",
    "%mkdir -p 'data/response_epochs'"
   ]
  },
  {
   "cell_type": "code",
   "execution_count": null,
   "metadata": {},
   "outputs": [],
   "source": [
    "events = mne.find_events(raw)\n",
    "event_id, tmin, tmax = {'trial_start': 2}, -1, 3\n",
    "d = dict(events=events, event_id=event_id, tmin=tmin, tmax=tmax, baseline=(-.1, 0.), reject=None)\n",
    "trial_epochs = mne.Epochs(raw, **d).load_data()\n",
    "trial_epochs.metadata = functions.exclude_dropped_metadata(data, trial_epochs)\n",
    "trial_epochs.save('data/trial_epochs/%i_epo.fif' % subject)"
   ]
  },
  {
   "cell_type": "code",
   "execution_count": null,
   "metadata": {},
   "outputs": [],
   "source": [
    "event_id, tmin, tmax = {'response': 3}, -3, .5\n",
    "d = dict(events=events, event_id=event_id, tmin=tmin, tmax=tmax, baseline=(-3, -2.9), reject=None)\n",
    "response_epochs = mne.Epochs(raw, **d).load_data()\n",
    "response_epochs.metadata = functions.exclude_dropped_metadata(data[data['action']==1], response_epochs)\n",
    "response_epochs.save('data/response_epochs/%i_epo.fif' % subject)"
   ]
  },
  {
   "cell_type": "markdown",
   "metadata": {},
   "source": [
    "# Single subject analyses\n",
    "\n",
    "Create a whole load of ERP plots for this subject."
   ]
  },
  {
   "cell_type": "code",
   "execution_count": null,
   "metadata": {},
   "outputs": [],
   "source": [
    "%matplotlib inline"
   ]
  },
  {
   "cell_type": "code",
   "execution_count": null,
   "metadata": {},
   "outputs": [],
   "source": [
    "trial_epochs.drop_bad(reject={'eeg': 200/million})\n",
    "response_epochs.drop_bad(reject={'eeg': 200/million})"
   ]
  },
  {
   "cell_type": "code",
   "execution_count": null,
   "metadata": {},
   "outputs": [],
   "source": [
    "\n",
    "def do_contrast(epochs, qs, labs, ch=15, lp=10):\n",
    "    for q, lab in zip(qs, labs):\n",
    "        e = epochs[q].filter(None, lp)\n",
    "        X = e.get_data()\n",
    "    #     plt.plot(e.times, X[:, 15].mean(0), label=lab)\n",
    "        eegf.plot_mean_sem(X[:, ch], e.times, label=lab)\n",
    "    plt.legend()\n",
    "    eegf.flipy()\n",
    "    plt.show()"
   ]
  },
  {
   "cell_type": "code",
   "execution_count": null,
   "metadata": {},
   "outputs": [],
   "source": [
    "eegf.mkdir('subject_plots/responses/')\n",
    "eegf.mkdir('subject_plots/trial_epochs/')\n",
    "eegf.mkdir('subject_plots/trial_epochs_csd/')\n",
    "eegf.mkdir('subject_plots/response_epochs/')\n",
    "eegf.mkdir('subject_plots/response_epochs_csd/')\n",
    "eegf.mkdir('subject_plots/trial_epochs_csd_img/')\n",
    "eegf.mkdir('subject_plots/response_epochs_csd_img/')"
   ]
  },
  {
   "cell_type": "code",
   "execution_count": null,
   "metadata": {},
   "outputs": [],
   "source": [
    "r = data[data['visible']==1].groupby(['v_win', 'p_win']).mean()['response'].reset_index()\n",
    "rp = r.pivot_table('response', 'v_win', 'p_win')\n",
    "sns.heatmap(rp, cmap='seismic')\n",
    "eegf.flipy()\n",
    "plt.savefig('subject_plots/responses/%i.png' % subject)\n",
    "plt.show()"
   ]
  },
  {
   "cell_type": "code",
   "execution_count": null,
   "metadata": {},
   "outputs": [],
   "source": [
    "## How often do they bet on guess trials?\n",
    "data.loc[data['visible']==0, 'response'].mean()"
   ]
  },
  {
   "cell_type": "code",
   "execution_count": null,
   "metadata": {},
   "outputs": [],
   "source": [
    "erp = trial_epochs.average().crop(-.1, 2)\n",
    "times = functions.get_gfp_peaks(erp, lp=3)\n",
    "eegf.plot_joint(erp, times[times > 0], \n",
    "                title='Stimulus-locked ERP - %i' % subject, \n",
    "                save='subject_plots/trial_epochs/%i.png' % subject);"
   ]
  },
  {
   "cell_type": "code",
   "execution_count": null,
   "metadata": {},
   "outputs": [],
   "source": [
    "trial_epochs_csd = eegf.surface_laplacian(trial_epochs, m=5)"
   ]
  },
  {
   "cell_type": "code",
   "execution_count": null,
   "metadata": {},
   "outputs": [],
   "source": [
    "erp = trial_epochs_csd.average().crop(-.1, 2)\n",
    "times = functions.get_gfp_peaks(erp, lp=3)\n",
    "eegf.plot_joint(erp, times[times > 0], \n",
    "                title='CSD Stimulus-locked ERP - %i' % subject, \n",
    "                save='subject_plots/trial_epochs_csd/%i.png' % subject);"
   ]
  },
  {
   "cell_type": "code",
   "execution_count": null,
   "metadata": {},
   "outputs": [],
   "source": [
    "epochs = trial_epochs_csd#['action==1']\n",
    "rt_order = np.argsort(epochs.metadata['rt'])\n",
    "fig = plt.figure(figsize=(12, 8))\n",
    "g = mne.viz.plot_epochs_image(epochs, 15, \n",
    "                              fig=fig,\n",
    "                              #vmin=-100, vmax=100,\n",
    "                              order=rt_order,\n",
    "                              overlay_times=epochs.metadata['rt']);\n",
    "g[0].savefig('subject_plots/response_epochs_csd_img/%i.png' % subject)"
   ]
  },
  {
   "cell_type": "code",
   "execution_count": null,
   "metadata": {},
   "outputs": [],
   "source": [
    "qs = ['visible==1 & difficult==0', 'visible==1 & difficult==1', 'visible==0']\n",
    "labs = ['Easy', 'Hard', 'Guess']\n",
    "do_contrast(trial_epochs_csd, qs, labs)"
   ]
  },
  {
   "cell_type": "code",
   "execution_count": null,
   "metadata": {},
   "outputs": [],
   "source": [
    "do_contrast(trial_epochs_csd, ['action==0', 'action==1'], ['Wait', 'Act'])"
   ]
  },
  {
   "cell_type": "code",
   "execution_count": null,
   "metadata": {},
   "outputs": [],
   "source": [
    "do_contrast(trial_epochs_csd, ['response==0', 'response==1'], ['Pass', 'Bet'])"
   ]
  },
  {
   "cell_type": "code",
   "execution_count": null,
   "metadata": {},
   "outputs": [],
   "source": [
    "erp = response_epochs.average().crop(-2, .1).apply_baseline((-2, -1.75))\n",
    "eegf.plot_joint(erp, [-.1, 0], \n",
    "                title='Response-locked ERP - %i' % subject, \n",
    "                save='subject_plots/response_epochs/%i.png' % subject);"
   ]
  },
  {
   "cell_type": "code",
   "execution_count": null,
   "metadata": {},
   "outputs": [],
   "source": [
    "response_epochs_csd = eegf.surface_laplacian(response_epochs, m=5)"
   ]
  },
  {
   "cell_type": "code",
   "execution_count": null,
   "metadata": {},
   "outputs": [],
   "source": [
    "erp = response_epochs_csd.average().crop(-2, .1).apply_baseline((-2, -1.75))\n",
    "eegf.plot_joint(erp, [-.1, 0], \n",
    "                title='CSD Response-locked ERP - %i' % subject, \n",
    "                save='subject_plots/response_epochs_csd/%i.png' % subject);"
   ]
  },
  {
   "cell_type": "code",
   "execution_count": null,
   "metadata": {},
   "outputs": [],
   "source": [
    "rt_order = np.argsort(response_epochs_csd.metadata['rt'])\n",
    "mne.viz.plot_epochs_image(response_epochs_csd, 9, \n",
    "                          #vmin=-100, vmax=100,\n",
    "                          order=rt_order,\n",
    "                          overlay_times=-1*response_epochs_csd.metadata['rt'])"
   ]
  },
  {
   "cell_type": "code",
   "execution_count": null,
   "metadata": {},
   "outputs": [],
   "source": [
    "qs = ['visible==1 & difficult==0', 'visible==1 & difficult==1', 'visible==0']\n",
    "labs = ['Easy', 'Hard', 'Guess']\n",
    "do_contrast(response_epochs_csd, qs, labs, ch=9)"
   ]
  },
  {
   "cell_type": "code",
   "execution_count": null,
   "metadata": {},
   "outputs": [],
   "source": [
    "X = response_epochs_csd.copy().filter(None, 10).get_data()[:, 9] * million\n",
    "t = response_epochs_csd.times\n",
    "for i in range(X.shape[0]):\n",
    "    plt.plot(t, X[i], color='b', alpha=.2)\n",
    "plt.plot(t, X.mean(0), color='r')\n",
    "eegf.flipy()"
   ]
  },
  {
   "cell_type": "markdown",
   "metadata": {},
   "source": [
    "# End of Preprocessing\n",
    "\n",
    "Now go back to the top, change the value of `subject`, and run it all again."
   ]
  }
 ],
 "metadata": {
  "kernelspec": {
   "display_name": "Python 3",
   "language": "python",
   "name": "python3"
  },
  "language_info": {
   "codemirror_mode": {
    "name": "ipython",
    "version": 3
   },
   "file_extension": ".py",
   "mimetype": "text/x-python",
   "name": "python",
   "nbconvert_exporter": "python",
   "pygments_lexer": "ipython3",
   "version": "3.7.3"
  }
 },
 "nbformat": 4,
 "nbformat_minor": 1
}
