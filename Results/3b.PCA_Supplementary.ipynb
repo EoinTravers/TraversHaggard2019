{
 "cells": [
  {
   "cell_type": "code",
   "execution_count": null,
   "metadata": {},
   "outputs": [],
   "source": [
    "# coding: utf-8\n",
    "import os\n",
    "import sys\n",
    "from glob import glob\n",
    "import numpy as np\n",
    "from scipy import stats\n",
    "import pandas as pd\n",
    "import matplotlib.pyplot as plt\n",
    "import matplotlib as mpl\n",
    "import seaborn as sns\n",
    "import mne\n",
    "from mne.decoding import UnsupervisedSpatialFilter\n",
    "from sklearn.decomposition import PCA, FastICA, FactorAnalysis, IncrementalPCA\n",
    "from sklearn.externals import joblib\n",
    "\n",
    "sys.path.append('src')\n",
    "import eegf\n",
    "import functions\n",
    "\n",
    "sns.set_style('whitegrid',\n",
    "             {'xtick.bottom': True,\n",
    "              'ytick.left': True})\n",
    "mpl.rcParams['font.size'] = 14\n",
    "mpl.rcParams['axes.titlesize'] = 'medium'\n",
    "mpl.rcParams['axes.labelsize'] = 'medium'\n",
    "mpl.rcParams['xtick.labelsize'] = 'medium'\n",
    "mpl.rcParams['ytick.labelsize'] = 'medium'\n",
    "mpl.rcParams['legend.fontsize'] = 'medium'\n",
    "mpl.rcParams['figure.titlesize'] = 'medium'\n",
    "mpl.rcParams['figure.figsize'] = (8, 6)\n",
    "mpl.rcParams['axes.spines.right'] = False\n",
    "mpl.rcParams['axes.spines.top'] = False\n",
    "mpl.rcParams['axes.edgecolor'] = 'k'\n",
    "million = 1000000\n",
    "mpl.rcParams['font.size'] = 20\n",
    "\n",
    "eegf.mkdir('data/pca_rotation/')\n",
    "\n",
    "def topomap(w, info, axes=None, show=False):\n",
    "    a = np.abs(w).max()\n",
    "    return mne.viz.plot_topomap(w, info, axes=axes, show=show)"
   ]
  },
  {
   "cell_type": "markdown",
   "metadata": {},
   "source": [
    "# Isolating Preperatory Motor Activity\n",
    "\n",
    "Traditionally, the Readiness Potential is recorded in the seconds prior to self-initiated actions.\n",
    "This means that no stimuli were presented immediately prior to the action in question,\n",
    "and as a result the EEG does not contain stimulus-evoked activity.\n",
    "In the current experiment, each trial begins with the a gamble being shown onscreen,\n",
    "and responses typically occured approximately 1 s after the gamble was presented.\n",
    "As a result, the EEG prior to the action is contaminated by components evoked by the stimuli.\n",
    "\n",
    "Therefore, it is necessary to preprocess the data in order to isolate \n",
    "the EEG components related to motor preparation.\n",
    "To do this, we adapt a procedure introduced by \n",
    "[Kayser and Tencke (2006)](https://doi.org/10.1016/j.clinph.2005.08.034):\n",
    "first apply a surface Laplacian filter to the data to help localise EEG components,\n",
    "then use Principle Components Analysis with varimax rotation to separate out components,\n",
    "and finally use topographical and temporal properties to identify each component."
   ]
  },
  {
   "cell_type": "markdown",
   "metadata": {},
   "source": [
    "In this notebook, I work with a random subset of our experimental data.\n",
    "This procedure requires two sets of epochs from the raw EEG:\n",
    "stimulus-locked epochs, capturing activity locked to the onset of the stimulus on each trial, and\n",
    "response-locked epochs, capturing motor preperation and execution."
   ]
  },
  {
   "cell_type": "markdown",
   "metadata": {},
   "source": [
    "## Stimulus-locked epochs"
   ]
  },
  {
   "cell_type": "code",
   "execution_count": null,
   "metadata": {},
   "outputs": [],
   "source": [
    "# stim_epochs[::10].save('CSD_PCA/data/stim_epo.fif')"
   ]
  },
  {
   "cell_type": "code",
   "execution_count": null,
   "metadata": {},
   "outputs": [],
   "source": [
    "## Load data\n",
    "stim_epochs = mne.read_epochs('data/trial_epo.fif').apply_baseline((-.1, 0)).crop(-.5, 3)\n",
    "# stim_epochs = stim_epochs[::2] # Drop every second trial\n",
    "## Drop outliers\n",
    "stim_rej = eegf.find_outlier_trials(stim_epochs, thresh=120./million)\n",
    "stim_epochs = stim_epochs[stim_rej==False]"
   ]
  },
  {
   "cell_type": "code",
   "execution_count": null,
   "metadata": {},
   "outputs": [],
   "source": [
    "%mkdir -p figures/sup/"
   ]
  },
  {
   "cell_type": "code",
   "execution_count": null,
   "metadata": {},
   "outputs": [],
   "source": [
    "mpl.rcParams['font.size'] = 20"
   ]
  },
  {
   "cell_type": "code",
   "execution_count": null,
   "metadata": {},
   "outputs": [],
   "source": [
    "## Plot channels\n",
    "eegf.plot_joint(stim_epochs.average(), \n",
    "                times=[.125, .2, .27, .5, .625],\n",
    "                title='Stimulus-locked epochs - raw data');\n",
    "plt.savefig('figures/sup/raw_stim.svg')"
   ]
  },
  {
   "cell_type": "markdown",
   "metadata": {},
   "source": [
    "## Response-locked epochs"
   ]
  },
  {
   "cell_type": "code",
   "execution_count": null,
   "metadata": {},
   "outputs": [],
   "source": [
    "response_epochs = mne.read_epochs('data/response_epo.fif').apply_baseline((-3., -2.9)).crop(-3, .5)\n",
    "# response_epochs = response_epochs[::2] # Drop every second trial\n",
    "resp_rej = eegf.find_outlier_trials(response_epochs, thresh=120./million)\n",
    "response_epochs = response_epochs[resp_rej==False]"
   ]
  },
  {
   "cell_type": "code",
   "execution_count": null,
   "metadata": {},
   "outputs": [],
   "source": [
    "# response_epochs[::10].save('CSD_PCA/data/resp_epo.fif')"
   ]
  },
  {
   "cell_type": "code",
   "execution_count": null,
   "metadata": {},
   "outputs": [],
   "source": [
    "## Plot channels\n",
    "eegf.plot_joint(response_epochs.average(), \n",
    "                times=[-1, -.05, 0],\n",
    "                title='Stimulus-locked epochs - raw data');\n",
    "plt.savefig('figures/sup/raw_resp.svg')"
   ]
  },
  {
   "cell_type": "markdown",
   "metadata": {},
   "source": [
    "As you can see, the data is dominated by the P300 (or centro-parietal positivity; CPP) response that occurs approxamitely 500 ms after stimulus onset.\n",
    "In the response-locked data, we can see that most channels have a positive slope\n",
    "in the moments prior to action, with a small negative spike around channel FCz just at the time of action.\n",
    "This reflects the fact that our EEG contains a relatively small motor preperation component,\n",
    "superimposed over a massive stimulus-evoked component.\n",
    "We can see the same thing looking at just data from FCz (where the motor component is maximal)\n",
    "and Pz (where the CPP is maximal).\n",
    "\n"
   ]
  },
  {
   "cell_type": "code",
   "execution_count": null,
   "metadata": {},
   "outputs": [],
   "source": [
    "chan_indices = dict(zip(stim_epochs.ch_names, range(32)))\n",
    "\n",
    "plt.figure(figsize=(20, 5))\n",
    "for i, epochs, title in zip([1,2], \n",
    "                            [stim_epochs, response_epochs],\n",
    "                            ['Stimulus-locked', 'Response-locked']):\n",
    "    X = epochs.get_data()[:, :32] * million # Trial x Channel x Time\n",
    "    plt.subplot(1, 2, i)\n",
    "    for ch in ['Fcz', 'Pz']:\n",
    "        ch_i = chan_indices[ch]\n",
    "        eegf.plot_mean_sem(X[:, ch_i], epochs.times, label=ch)\n",
    "    plt.title(title)\n",
    "    plt.legend()\n",
    "    eegf.flipy()\n",
    "    plt.xlabel('Time (s)')\n",
    "    plt.ylabel(u'μV')\n",
    "plt.show()    "
   ]
  },
  {
   "cell_type": "markdown",
   "metadata": {},
   "source": [
    "# Surface Laplacian\n",
    "\n",
    "Our first step is to apply a surface Laplacian filter to the data to help localise EEG components.\n",
    "This transforms the data from raw voltages, measured in μV,\n",
    "to estimates of the Current Source Density (CSD), measured in $\\frac{μV^2}{mm}$.\n",
    "In practice, this means that we're spatially filtering the data to attenuate signals\n",
    "with a low spatial frequency - that is, those that cover a large region of the scalp.\n",
    "We do this in order to prevent the CPP signal from contaminating other electrodes far from Pz."
   ]
  },
  {
   "cell_type": "code",
   "execution_count": null,
   "metadata": {},
   "outputs": [],
   "source": [
    "## Apply surface laplacian filter\n",
    "stim_epochs_csd = eegf.surface_laplacian(stim_epochs, m=5).apply_baseline((-.1, 0))\n",
    "## Plot channels\n",
    "eegf.plot_joint(stim_epochs_csd.average(), \n",
    "                times=[.125, .2, .27, .5, .625],\n",
    "                title='Stimulus-locked epochs - CSD');\n",
    "plt.savefig('figures/sup/csd_stim.svg')"
   ]
  },
  {
   "cell_type": "markdown",
   "metadata": {},
   "source": [
    "In the filtered epochs, we can still see the CPP response,\n",
    "but it is restricted to a much narrower region of the scalp.\n",
    "Note that the signal is no longer measured in μV, so we cannot compare the magnitude of the component\n",
    "before and after filtering.\n",
    "With the CPP restricted to around Pz, we can now see a second, negative component centered around FCz."
   ]
  },
  {
   "cell_type": "markdown",
   "metadata": {},
   "source": [
    "Next, we apply the same filter to the response-locked data.\n",
    "This allows us to the the ramping negative component at FCz - an analogue to the RP."
   ]
  },
  {
   "cell_type": "code",
   "execution_count": null,
   "metadata": {},
   "outputs": [],
   "source": [
    "## Filter\n",
    "response_epochs_csd = eegf.surface_laplacian(response_epochs, m=5)\n",
    "## Plot\n",
    "eegf.plot_joint(response_epochs_csd.average(), \n",
    "                times=[-1, -.05, 0],\n",
    "                title='Response-locked epochs - CSD');\n",
    "plt.savefig('figures/sup/csd_resp.svg')"
   ]
  },
  {
   "cell_type": "code",
   "execution_count": null,
   "metadata": {},
   "outputs": [],
   "source": [
    "response_epochs = mne.read_epochs('data/response_epo.fif')\n",
    "response_epochs_csd = eegf.surface_laplacian(response_epochs, m=5)"
   ]
  },
  {
   "cell_type": "code",
   "execution_count": null,
   "metadata": {},
   "outputs": [],
   "source": [
    "resp_rej = eegf.find_outlier_trials(response_epochs, thresh=120./million)\n",
    "response_epochs = response_epochs[resp_rej==False]\n",
    "response_epochs_csd = response_epochs_csd[resp_rej==False]"
   ]
  },
  {
   "cell_type": "code",
   "execution_count": null,
   "metadata": {},
   "outputs": [],
   "source": [
    "# response_epochs.get_data()[0,0] * million"
   ]
  },
  {
   "cell_type": "code",
   "execution_count": null,
   "metadata": {},
   "outputs": [],
   "source": [
    "plt.figure(figsize=(20, 5))\n",
    "for i, epochs, title in zip([1,2], \n",
    "                            [stim_epochs_csd, response_epochs_csd],\n",
    "                            ['Stimulus-locked', 'Response-locked']):\n",
    "    X = epochs.get_data()[:, :32] * million # Trial x Channel x Time\n",
    "    plt.subplot(1, 2, i)\n",
    "    for ch in ['Fcz', 'Pz']:\n",
    "        ch_i = chan_indices[ch]\n",
    "        eegf.plot_mean_sem(X[:, ch_i], epochs.times, label=ch)\n",
    "    plt.title(title)\n",
    "    plt.legend()\n",
    "    eegf.flipy()\n",
    "    plt.xlabel('Time (s)')\n",
    "plt.suptitle('Current Source Density')\n",
    "plt.show()    "
   ]
  },
  {
   "cell_type": "code",
   "execution_count": null,
   "metadata": {},
   "outputs": [],
   "source": []
  },
  {
   "cell_type": "code",
   "execution_count": null,
   "metadata": {},
   "outputs": [],
   "source": []
  },
  {
   "cell_type": "code",
   "execution_count": null,
   "metadata": {},
   "outputs": [],
   "source": []
  },
  {
   "cell_type": "markdown",
   "metadata": {},
   "source": [
    "# Tuning the Surface Laplacian\n",
    " \n",
    "Note that the surface Laplacian function takes an additional argument, `m`,\n",
    "which controlls the smoothness of the filter. \n",
    "In the code above, I've set `m=5`, which produced good results for this dataset. \n",
    "\n",
    "Lower values of `m` produce more spikey, locally isolated patterns of activity.\n",
    "Higher values produce smoother activity across broad areas of the scalp."
   ]
  },
  {
   "cell_type": "code",
   "execution_count": null,
   "metadata": {},
   "outputs": [],
   "source": [
    "# %%capture --no-display\n",
    "# for m in [3,4,5,6,10]:\n",
    "#     E = eegf.surface_laplacian(response_epochs, m=m)\n",
    "#     eegf.plot_joint(E.average(), \n",
    "#                     times=[-1, -.05, 0],\n",
    "#                     title='Response-locked epochs - CSD (m = %i)' % m)\n",
    "#     plt.show()"
   ]
  },
  {
   "cell_type": "markdown",
   "metadata": {},
   "source": [
    "I'll return to this issue later.\n"
   ]
  },
  {
   "cell_type": "markdown",
   "metadata": {},
   "source": [
    "# Principle Components\n",
    "\n",
    "The next step is to use PCA to isolate neural components in the data.\n",
    "We're most interested in finding the premotor component that peaks just before action,\n",
    "so we perform PCA on the 1 second of data leading up to the response on each trial.\n",
    "\n"
   ]
  },
  {
   "cell_type": "code",
   "execution_count": null,
   "metadata": {},
   "outputs": [],
   "source": [
    "X = response_epochs_csd.copy().crop(-.2, 0).get_data()[:, :32] # Trials x Channels x Time"
   ]
  },
  {
   "cell_type": "markdown",
   "metadata": {},
   "source": [
    "The first step here is to calculate the covariance matrix for the 32 channels.\n",
    "There are a number of ways to do this on epoched EEG data,\n",
    "but the most straightforward way here is to calculate the covariance matrix for each trial,\n",
    "and then average across trials.\n",
    "I've found almost no difference when using other methods to do PCA.\n",
    "Mike X Cohen's book ([code available here](http://www.mikexcohen.com/#books)]\n",
    "is a good introduction to this and other methods.\n"
   ]
  },
  {
   "cell_type": "code",
   "execution_count": null,
   "metadata": {},
   "outputs": [],
   "source": [
    "cov_by_trial = np.array([np.cov(X[i] - X[i].mean()) \n",
    "                         for i in range(X.shape[0])])\n",
    "cov = cov_by_trial.mean(0)\n",
    "plt.figure(figsize=(8,6))\n",
    "sns.heatmap(cov, cmap='seismic', center=0);\n",
    "plt.savefig('figures/sup/cov.svg')"
   ]
  },
  {
   "cell_type": "code",
   "execution_count": null,
   "metadata": {},
   "outputs": [],
   "source": [
    "cov"
   ]
  },
  {
   "cell_type": "markdown",
   "metadata": {},
   "source": [
    "Next, we use numpy's `eig` function to extract the eigenvalues and eigvectors from this covariance matrix."
   ]
  },
  {
   "cell_type": "code",
   "execution_count": null,
   "metadata": {},
   "outputs": [],
   "source": [
    "eig_vals, eig_vecs = np.linalg.eig(cov)\n",
    "## Sort largest first\n",
    "ix = np.flip(np.argsort(eig_vals))\n",
    "eig_vals = eig_vals[ix]\n",
    "eig_vecs = eig_vecs[:, ix]\n"
   ]
  },
  {
   "cell_type": "code",
   "execution_count": null,
   "metadata": {},
   "outputs": [],
   "source": [
    "eig_vals, eig_vecs = np.linalg.eig(cov)\n",
    "ix = np.flip(np.argsort(eig_vals))\n",
    "eig_vals = eig_vals[ix]\n",
    "eig_vecs = eig_vecs[:, ix] # Is this the right axis? - Yes\n",
    "\n",
    "# plt.plot(np.log(eig_vals[:5] / eig_vals.mean()), '-o')\n",
    "# plt.plot(eig_vals[:12] / eig_vals.mean(), '-o')\n",
    "# plt.hlines(1, linestyle='dashed', *plt.xlim())\n",
    "\n",
    "# Eigenvalues\n",
    "print (eig_vals[:4] / eig_vals.mean())\n",
    "\n",
    "## Variance explained\n",
    "ve = eig_vals / eig_vals.sum()\n",
    "print( ve[:4])\n",
    "\n",
    "## Residual variance explained\n",
    "for i in range(4):\n",
    "    print (ve[i] / (1-ve[:i].sum()))\n"
   ]
  },
  {
   "cell_type": "markdown",
   "metadata": {},
   "source": [
    "## Eigenvectors"
   ]
  },
  {
   "cell_type": "markdown",
   "metadata": {},
   "source": [
    "Each of the 32 eigenvectors indicates how much each of\n",
    "the original 32 channels weights onto each of the 32 PCA components.\n",
    "Every column in the plot below corresponds to an eigenvector."
   ]
  },
  {
   "cell_type": "code",
   "execution_count": null,
   "metadata": {},
   "outputs": [],
   "source": [
    "plt.figure(figsize=(8, 6))\n",
    "sns.heatmap(eig_vecs, cmap='seismic', center=0);\n",
    "plt.xlabel('Eigenvector')\n",
    "plt.ylabel('Loading onto electrode')\n",
    "plt.yticks(range(32), epochs.ch_names, size=6, rotation=.45)\n",
    "# plt.savefig('figures/sup/eigvecs.svg')\n",
    "plt.show()"
   ]
  },
  {
   "cell_type": "code",
   "execution_count": null,
   "metadata": {},
   "outputs": [],
   "source": []
  },
  {
   "cell_type": "markdown",
   "metadata": {},
   "source": [
    "Or, scaling the eigenvectors by how much variance they explain (the eigenvalues)"
   ]
  },
  {
   "cell_type": "code",
   "execution_count": null,
   "metadata": {},
   "outputs": [],
   "source": [
    "plt.figure(figsize=(8, 6))\n",
    "sns.heatmap(eig_vecs * eig_vals, cmap='seismic', center=0)\n",
    "plt.xlabel('Eigenvector')\n",
    "plt.ylabel('Loading onto electrode')\n",
    "plt.yticks(range(32), epochs.ch_names, size=6, rotation=.45)\n",
    "plt.savefig('figures/sup/eigvecs2.svg')\n",
    "plt.show()"
   ]
  },
  {
   "cell_type": "markdown",
   "metadata": {},
   "source": [
    "We can better see these weights by plotting them according to where each channel is on the scalp."
   ]
  },
  {
   "cell_type": "code",
   "execution_count": null,
   "metadata": {},
   "outputs": [],
   "source": [
    "plt.figure(figsize=(14, 8))\n",
    "for i in range(32):\n",
    "    ax = plt.subplot(4, 8, i+1)\n",
    "    topomap(eig_vecs[:, i], response_epochs.info, axes=ax)\n",
    "    plt.title('Component %i' % (i+1))\n",
    "plt.show()"
   ]
  },
  {
   "cell_type": "markdown",
   "metadata": {},
   "source": [
    "## Eigenvalues\n",
    "\n",
    "Eigenvalues reflect the variance of each PCA component. \n",
    "By normalising them to sum to 1, we can see how much of the variance in the original data \n",
    "(the second prior to action)\n",
    "is explained by each component."
   ]
  },
  {
   "cell_type": "code",
   "execution_count": null,
   "metadata": {},
   "outputs": [],
   "source": [
    "variance_explained = eig_vals / eig_vals.sum()\n",
    "plt.plot(range(1, len(variance_explained)+1), variance_explained*100, '-o')\n",
    "plt.hlines(variance_explained.mean()*100, linestyle='dashed', *plt.xlim())\n",
    "plt.ylabel('% variance explained')\n",
    "plt.xlabel('Component')\n",
    "plt.xticks(range(0, 33, 4))\n",
    "plt.savefig('figures/sup/var_explained.svg')\n",
    "plt.xlim(0, 33)"
   ]
  },
  {
   "cell_type": "markdown",
   "metadata": {},
   "source": [
    "The dotted line shows the average of all 32 eigenvalues.\n",
    "An alternative is to divide the eigvenvalues by their mean,\n",
    "yielding standardised eigenvalues."
   ]
  },
  {
   "cell_type": "code",
   "execution_count": null,
   "metadata": {},
   "outputs": [],
   "source": [
    "standard_eigvals = eig_vals / eig_vals.mean()\n",
    "plt.plot(range(1, len(standard_eigvals)+1), standard_eigvals, '-o')\n",
    "plt.hlines(1, linestyle='dashed', *plt.xlim())\n",
    "plt.ylabel('Standardised eigenvalue')\n",
    "plt.xlabel('Component')\n",
    "plt.xticks(range(0, 33, 4))\n",
    "plt.savefig('figures/sup/eigenvalues.svg')\n",
    "plt.xlim(0, 33)"
   ]
  },
  {
   "cell_type": "markdown",
   "metadata": {},
   "source": [
    "Clearly, some of the components are more important than others.\n",
    "For the next step, we want to keep only the components that reflect important neural activity,\n",
    "and throw away those that contain only noise.\n",
    "There is no one right way to decide how many components to keep,\n",
    "but the standard rules of thumb are either to keep everything with a stanardised eigenvalue greater than 1\n",
    "(everything above the dashed line in the plot above),\n",
    "or to identify the \"elbow\" at which the plot of the eigvenvalues levels out, \n",
    "so that including extra components after the elbow will not explain much more variance.\n",
    "\n",
    "In the plot above, there are elbows at component 4, and at 9.\n",
    "In practice, I've found that our results don't change much for any number of components between 4 and 9,\n",
    "and component 9 has the last standardised eigenvalue above 1.\n",
    "Therefore, I decide to retain components 1-9 here."
   ]
  },
  {
   "cell_type": "code",
   "execution_count": null,
   "metadata": {},
   "outputs": [],
   "source": []
  },
  {
   "cell_type": "code",
   "execution_count": null,
   "metadata": {},
   "outputs": [],
   "source": [
    "# mpl.rcParams['font.size'] = 10\n"
   ]
  },
  {
   "cell_type": "code",
   "execution_count": null,
   "metadata": {},
   "outputs": [],
   "source": [
    "n_to_retain = 9\n",
    "\n",
    "plt.figure(figsize=(14, 2))\n",
    "for i in range(n_to_retain):\n",
    "    ax = plt.subplot(1, n_to_retain, i+1)\n",
    "    topomap(eig_vecs[:, i], response_epochs.info, axes=ax)\n",
    "    plt.title('C%i' % (i+1))\n",
    "plt.savefig('figures/sup/pca_components.svg')\n",
    "plt.show()"
   ]
  },
  {
   "cell_type": "markdown",
   "metadata": {},
   "source": [
    "# PCA Rotation\n",
    "\n",
    "Now that we have selected a subset of PCA components of interest,\n",
    "we can transform the EEG data from it's original representation (32 channels)\n",
    "to it's PCA represenation (in this case, 9 components).\n",
    "We do this by multiplying the raw data by the eigvector for each component."
   ]
  },
  {
   "cell_type": "code",
   "execution_count": null,
   "metadata": {},
   "outputs": [],
   "source": [
    "def rotate_eeg(X, L):\n",
    "    '''\n",
    "    X: EEG array (trials x channels x times)\n",
    "    L: Rotation matrix (original channels x rotated components)\n",
    "    '''\n",
    "    return np.stack([X[i].T.dot(L) for i in range(X.shape[0])], axis=0).swapaxes(2, 1)\n",
    "\n",
    "pca_rot_mat = eig_vals[:n_to_retain] * eig_vecs[:, :n_to_retain] # 32 x 9\n",
    "## Get raw data\n",
    "stimX = stim_epochs_csd.get_data()[:, :32] * million # Units are somewhat arbitrary\n",
    "respX = response_epochs_csd.get_data()[:, :32] * million\n",
    "## Rotate data\n",
    "stimX_pca = rotate_eeg(stimX, pca_rot_mat)\n",
    "respX_pca = rotate_eeg(respX, pca_rot_mat)"
   ]
  },
  {
   "cell_type": "code",
   "execution_count": null,
   "metadata": {},
   "outputs": [],
   "source": [
    "plt.figure(figsize=(12, 5))\n",
    "for comp in range(n_to_retain):\n",
    "    eegf.plot_mean_sem(stimX_pca[:, comp], stim_epochs.times, label='Component %i' % (comp+1))\n",
    "plt.legend(loc='center left', bbox_to_anchor=(1, 0.5))\n",
    "plt.title('Stimulus-locked PCA Components')\n",
    "plt.show()"
   ]
  },
  {
   "cell_type": "code",
   "execution_count": null,
   "metadata": {},
   "outputs": [],
   "source": [
    "plt.figure(figsize=(12, 5))\n",
    "for comp in range(n_to_retain):\n",
    "    eegf.plot_mean_sem(respX_pca[:, comp], response_epochs.times, label='Component %i' % (comp+1))\n",
    "plt.legend(loc='center left', bbox_to_anchor=(1, 0.5))\n",
    "plt.title('Response-locked PCA Components')\n",
    "plt.show()"
   ]
  },
  {
   "cell_type": "code",
   "execution_count": null,
   "metadata": {},
   "outputs": [],
   "source": [
    "# from functions import pca_component_plot\n",
    "%mkdir -p figures/sup/pca_eeg/\n",
    "for i in range(9):\n",
    "    fig = pca_component_plot(i, pca_rot_mat, stimX_pca, respX_pca, stim_epochs, response_epochs)    \n",
    "    if i < 8:\n",
    "        for j in [1, 2]:\n",
    "            ax = fig.axes[j]\n",
    "            ax.set_xlabel('')\n",
    "            ax.set_xticklabels([])\n",
    "    plt.savefig('figures/sup/pca_eeg/c%i.svg' % (i+1))\n",
    "    plt.show()"
   ]
  },
  {
   "cell_type": "markdown",
   "metadata": {},
   "source": [
    "# Varimax Rotation\n",
    "\n",
    "However, these components don't look quite right.\n",
    "PCA works by first extracting out the largest component, then the largest component from what's left, \n",
    "repeating this untill all components have been found.\n",
    "This means that component 1 is greedy, and tries to explain as much variance as possible.\n",
    "This is a problem for neural components, as we would expect\n",
    "the brain to produce several components of approximately the same size.\n",
    "To address this, we use what's called *varimax rotation*.\n",
    "Varimax attempts to rotate the PCA components we have found\n",
    "so the the variance is better shared across components\n",
    "(of course, this is a simplification, but it's enough for our purposes).\n",
    "\n",
    "The plot above shows our 9 components after varimax rotation."
   ]
  },
  {
   "cell_type": "code",
   "execution_count": null,
   "metadata": {},
   "outputs": [],
   "source": [
    "pca_rot_mat = eig_vals[:n_to_retain] * eig_vecs[:, :n_to_retain] # 32 x 9\n",
    "varimax_rot_mat = eegf.varimax(pca_rot_mat, method='varimax').T\n",
    "\n",
    "plt.figure(figsize=(14, 2))\n",
    "for i in range(n_to_retain):\n",
    "    ax = plt.subplot(1, n_to_retain, i+1)\n",
    "    topomap(varimax_rot_mat[:, i], response_epochs.info, axes=ax)\n",
    "    plt.title('C%i' % (i+1))\n",
    "plt.show()"
   ]
  },
  {
   "cell_type": "code",
   "execution_count": null,
   "metadata": {},
   "outputs": [],
   "source": [
    "def rotate_eeg(X, L):\n",
    "    '''\n",
    "    X: EEG array (trials x channels x times)\n",
    "    L: Rotation matrix (original channels x rotated components)\n",
    "    '''\n",
    "    return np.stack([X[i].T.dot(L) for i in range(X.shape[0])], axis=0).swapaxes(2, 1)"
   ]
  },
  {
   "cell_type": "code",
   "execution_count": null,
   "metadata": {},
   "outputs": [],
   "source": [
    "## Rotate data\n",
    "stimX_varimax = rotate_eeg(stimX, varimax_rot_mat)\n",
    "respX_varimax = rotate_eeg(respX, varimax_rot_mat)"
   ]
  },
  {
   "cell_type": "code",
   "execution_count": null,
   "metadata": {},
   "outputs": [],
   "source": [
    "plt.figure(figsize=(12, 5))\n",
    "for comp in range(n_to_retain):\n",
    "    eegf.plot_mean_sem(stimX_varimax[:, comp], stim_epochs.times, label='Component %i' % (comp+1))\n",
    "plt.legend(loc='center left', bbox_to_anchor=(1, 0.5))\n",
    "plt.title('Stimulus-locked Varimax Components')\n",
    "plt.show()"
   ]
  },
  {
   "cell_type": "code",
   "execution_count": null,
   "metadata": {},
   "outputs": [],
   "source": [
    "plt.figure(figsize=(12, 5))\n",
    "for comp in range(n_to_retain):\n",
    "    eegf.plot_mean_sem(respX_varimax[:, comp], response_epochs.times, label='Component %i' % (comp+1))\n",
    "plt.legend(loc='center left', bbox_to_anchor=(1, 0.5))\n",
    "plt.title('Response-locked Varimax Components')\n",
    "plt.show()"
   ]
  },
  {
   "cell_type": "markdown",
   "metadata": {},
   "source": [
    "For both PCA and varimax components, the sign of each componet is arbirary -\n",
    "we might find a positive component, that decreases over time, or a negative component that increases.\n",
    "I find it useful to flip the signs of these components so that each one is increasing \n",
    "in the buildup to action.\n"
   ]
  },
  {
   "cell_type": "code",
   "execution_count": null,
   "metadata": {},
   "outputs": [],
   "source": [
    "t_baseline, t_action = response_epochs.time_as_index([-2, 0])\n",
    "respXmean = respX_varimax.mean(0) # Average across trials\n",
    "respXmean_slope = respXmean[:, t_action] - respXmean[:, t_baseline] # Positive if component increases\n",
    "sign_flip = np.where(respXmean_slope > 0, 1, -1)\n",
    "\n",
    "for i, s in enumerate(sign_flip):\n",
    "    varimax_rot_mat[:, i] *= s\n",
    "stimX_varimax = rotate_eeg(stimX, varimax_rot_mat)\n",
    "respX_varimax = rotate_eeg(respX, varimax_rot_mat)"
   ]
  },
  {
   "cell_type": "code",
   "execution_count": null,
   "metadata": {},
   "outputs": [],
   "source": [
    "plt.figure(figsize=(14, 2))\n",
    "for i in range(n_to_retain):\n",
    "    ax = plt.subplot(1, n_to_retain, i+1)\n",
    "    topomap(varimax_rot_mat[:, i], response_epochs.info, axes=ax)\n",
    "    plt.title('C%i' % (i+1))\n",
    "plt.savefig('figures/sup/vmax_components.svg')\n",
    "plt.show()"
   ]
  },
  {
   "cell_type": "code",
   "execution_count": null,
   "metadata": {},
   "outputs": [],
   "source": [
    "plt.figure(figsize=(12, 5))\n",
    "for comp in range(n_to_retain):\n",
    "    eegf.plot_mean_sem(stimX_varimax[:, comp], stim_epochs.times, label='Component %i' % (comp+1))\n",
    "plt.legend(loc='center left', bbox_to_anchor=(1, 0.5))\n",
    "plt.title('Stimulus-locked Varimax Components')\n",
    "plt.show()"
   ]
  },
  {
   "cell_type": "code",
   "execution_count": null,
   "metadata": {},
   "outputs": [],
   "source": [
    "plt.figure(figsize=(12, 5))\n",
    "for comp in range(n_to_retain):\n",
    "    eegf.plot_mean_sem(respX_varimax[:, comp], response_epochs.times, label='Component %i' % (comp+1))\n",
    "plt.legend(loc='center left', bbox_to_anchor=(1, 0.5))\n",
    "plt.title('Response-locked Varimax Components')\n",
    "plt.show()"
   ]
  },
  {
   "cell_type": "code",
   "execution_count": null,
   "metadata": {},
   "outputs": [],
   "source": [
    "# from functions import pca_component_plot\n",
    "    \n",
    "%mkdir -p figures/sup/vmax_eeg/\n",
    "for i in range(9):\n",
    "    fig = pca_component_plot(i, varimax_rot_mat, stimX_varimax, respX_varimax, stim_epochs, response_epochs)    \n",
    "    if i < 8:\n",
    "        for j in [1, 2]:\n",
    "            ax = fig.axes[j]\n",
    "            ax.set_xlabel('')\n",
    "            ax.set_xticklabels([])\n",
    "    plt.savefig('figures/sup/vmax_eeg/c%i.svg' % (i+1))\n",
    "    plt.show()"
   ]
  },
  {
   "cell_type": "markdown",
   "metadata": {},
   "source": [
    "Finally, let's create a new mne.Epochs object to store the rotated data, copy the metadata across to it, and save it. "
   ]
  },
  {
   "cell_type": "code",
   "execution_count": null,
   "metadata": {},
   "outputs": [],
   "source": [
    "## Create info object\n",
    "info1 = mne.create_info(n_to_retain, sfreq=response_epochs.info['sfreq'], ch_types='eeg')\n",
    "stim_epochs_vmax = mne.EpochsArray(stimX_varimax[:, :n_to_retain], \n",
    "                                   info1, tmin=stim_epochs.times[0],\n",
    "                                   baseline=(-.1, 0))\n",
    "stim_epochs_vmax.metadata = stim_epochs.metadata\n",
    "stim_epochs_vmax.save('data/stim_vmax_epo.fif')\n",
    "\n",
    "info2 = mne.create_info(n_to_retain, sfreq=response_epochs.info['sfreq'], ch_types='eeg')\n",
    "resp_epochs_vmax = mne.EpochsArray(respX_varimax[:, :n_to_retain],\n",
    "                                   info2, tmin=response_epochs.times[0],\n",
    "                                   baseline=(-3, -2.9))\n",
    "resp_epochs_vmax.metadata = response_epochs.metadata\n",
    "resp_epochs_vmax.save('data/resp_vmax_epo.fif')"
   ]
  },
  {
   "cell_type": "markdown",
   "metadata": {},
   "source": [
    "We can now use these epochs as we would any other data in MNE,\n",
    "except that we need to be aware that\n",
    "\n",
    "- the epochs don't contain any information about \"channel\" locations, and\n",
    "- the signal is no longer measured in μV (although the plots will still show this by default)"
   ]
  },
  {
   "cell_type": "code",
   "execution_count": null,
   "metadata": {},
   "outputs": [],
   "source": [
    "E = resp_epochs_vmax[::5]\n",
    "rt_order = np.argsort(E.metadata['rt'])\n",
    "fig = plt.figure(figsize=(12, 8))\n",
    "g = mne.viz.plot_epochs_image(E, 1, ## Channels start at 0\n",
    "                              vmin=-.25, vmax=.25,\n",
    "                              order=rt_order, overlay_times=-1*E.metadata['rt'],\n",
    "                              ts_args=dict(show_sensors=False), # Don't show location of 'sensor'\n",
    "                             fig=fig);"
   ]
  },
  {
   "cell_type": "code",
   "execution_count": null,
   "metadata": {},
   "outputs": [],
   "source": [
    "E = stim_epochs_vmax[::5]\n",
    "rt_order = np.argsort(E.metadata['rt'])\n",
    "fig = plt.figure(figsize=(12, 8))\n",
    "g = mne.viz.plot_epochs_image(E, 1, ## Channels start at 0\n",
    "                              vmin=-.25, vmax=.25,\n",
    "                              order=rt_order, overlay_times=1*E.metadata['rt'],\n",
    "                              ts_args=dict(show_sensors=False), # Don't show location of 'sensor'\n",
    "                             fig=fig);"
   ]
  }
 ],
 "metadata": {
  "kernelspec": {
   "display_name": "Python 3",
   "language": "python",
   "name": "python3"
  },
  "language_info": {
   "codemirror_mode": {
    "name": "ipython",
    "version": 3
   },
   "file_extension": ".py",
   "mimetype": "text/x-python",
   "name": "python",
   "nbconvert_exporter": "python",
   "pygments_lexer": "ipython3",
   "version": "3.7.3"
  }
 },
 "nbformat": 4,
 "nbformat_minor": 2
}
